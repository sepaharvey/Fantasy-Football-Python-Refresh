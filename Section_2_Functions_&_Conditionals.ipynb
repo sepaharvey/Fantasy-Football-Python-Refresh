{
  "nbformat": 4,
  "nbformat_minor": 0,
  "metadata": {
    "colab": {
      "provenance": [],
      "authorship_tag": "ABX9TyMbIS2Nw70FDLCaeLbJ/FDu",
      "include_colab_link": true
    },
    "kernelspec": {
      "name": "python3",
      "display_name": "Python 3"
    },
    "language_info": {
      "name": "python"
    }
  },
  "cells": [
    {
      "cell_type": "markdown",
      "metadata": {
        "id": "view-in-github",
        "colab_type": "text"
      },
      "source": [
        "<a href=\"https://colab.research.google.com/github/sepaharvey/Fantasy-Football-Python-Refresh/blob/main/Section_2_Functions_%26_Conditionals.ipynb\" target=\"_parent\"><img src=\"https://colab.research.google.com/assets/colab-badge.svg\" alt=\"Open In Colab\"/></a>"
      ]
    },
    {
      "cell_type": "markdown",
      "source": [
        "# Functions"
      ],
      "metadata": {
        "id": "qQSanVGGr4Pt"
      }
    },
    {
      "cell_type": "code",
      "execution_count": null,
      "metadata": {
        "colab": {
          "base_uri": "https://localhost:8080/"
        },
        "id": "OnByknGZoEV-",
        "outputId": "411ae42b-858d-4d78-f9b2-7cca463c4fbb"
      },
      "outputs": [
        {
          "output_type": "stream",
          "name": "stdout",
          "text": [
            "Yards per carry: 4.0\n"
          ]
        }
      ],
      "source": [
        "def calculate_yards_per_carry(attempts, yards):\n",
        "  yards_per_carry = yards / attempts\n",
        "  return yards_per_carry\n",
        "\n",
        "\n",
        "attempts = 50\n",
        "yards = 200\n",
        "ypc = calculate_yards_per_carry(attempts, yards)\n",
        "\n",
        "print('Yards per carry:',ypc)"
      ]
    },
    {
      "cell_type": "markdown",
      "source": [
        "# Conditional Statements"
      ],
      "metadata": {
        "id": "vk8nwIIjr_qh"
      }
    },
    {
      "cell_type": "code",
      "source": [
        "def score_group(total_points):\n",
        "  if total_points >= 200:\n",
        "    return \"You are a top scorer\"\n",
        "  elif total_points >= 100 and total_points < 200:\n",
        "    return \"You are a average scorer\"\n",
        "  else:\n",
        "    return \"You are a low scorer\"\n",
        "\n",
        "player1_points = 200\n",
        "player2_points = 150\n",
        "player3_points = 100\n",
        "\n",
        "print(score_group(player1_points))\n",
        "print(score_group(player2_points))\n",
        "print(score_group(player3_points))"
      ],
      "metadata": {
        "colab": {
          "base_uri": "https://localhost:8080/"
        },
        "id": "ueBJqMGEpHdf",
        "outputId": "a2e83eee-c47a-45df-fc2f-29f4fe46dc05"
      },
      "execution_count": null,
      "outputs": [
        {
          "output_type": "stream",
          "name": "stdout",
          "text": [
            "You are a top scorer\n",
            "You are a average scorer\n",
            "You are a average scorer\n"
          ]
        }
      ]
    },
    {
      "cell_type": "markdown",
      "source": [
        "# Booleans and Boolean Expresions"
      ],
      "metadata": {
        "id": "S2VruQ1uqER9"
      }
    },
    {
      "cell_type": "code",
      "source": [
        "my_var = 5 > 6\n",
        "print(my_var,type(my_var))"
      ],
      "metadata": {
        "colab": {
          "base_uri": "https://localhost:8080/"
        },
        "id": "0NXRN4vhqAT6",
        "outputId": "ab9d35ba-c83a-4b59-b0cf-8cf3deec4f0f"
      },
      "execution_count": null,
      "outputs": [
        {
          "output_type": "stream",
          "name": "stdout",
          "text": [
            "False <class 'bool'>\n"
          ]
        }
      ]
    },
    {
      "cell_type": "markdown",
      "source": [
        "# Identity Operators"
      ],
      "metadata": {
        "id": "SVv3tTkrqSrN"
      }
    },
    {
      "cell_type": "code",
      "source": [
        "# Let's define two dictionaries representing the performance stats for two quarterbacks in a game\n",
        "mahomes_performance_game1 = {\"Passing Yards\": 340, \"Touchdowns\": 3, \"Interceptions\": 0}\n",
        "mahomes_performance_game2 = {\"Passing Yards\": 340, \"Touchdowns\": 3, \"Interceptions\": 0}\n",
        "\n",
        "mahomes_performance_game1"
      ],
      "metadata": {
        "colab": {
          "base_uri": "https://localhost:8080/"
        },
        "id": "f_Fsr6xYqI10",
        "outputId": "8103c377-d0c9-4391-b666-4c642e28f996"
      },
      "execution_count": null,
      "outputs": [
        {
          "output_type": "execute_result",
          "data": {
            "text/plain": [
              "{'Passing Yards': 340, 'Touchdowns': 3, 'Interceptions': 0}"
            ]
          },
          "metadata": {},
          "execution_count": 6
        }
      ]
    },
    {
      "cell_type": "code",
      "source": [
        "# We can use the 'is' operator to check if these two variables are pointing to the same object\n",
        "print(mahomes_performance_game1 is mahomes_performance_game2)"
      ],
      "metadata": {
        "colab": {
          "base_uri": "https://localhost:8080/"
        },
        "id": "TOUrBBkqqWZ8",
        "outputId": "3e5dafcb-fded-4369-f78c-b5ef8cae3c65"
      },
      "execution_count": null,
      "outputs": [
        {
          "output_type": "stream",
          "name": "stdout",
          "text": [
            "False\n"
          ]
        }
      ]
    },
    {
      "cell_type": "code",
      "source": [
        "# On the other hand, if we assign mahomes_performance_game1 to a new variable\n",
        "same_game_performance = mahomes_performance_game1\n",
        "print(mahomes_performance_game1 is same_game_performance)"
      ],
      "metadata": {
        "colab": {
          "base_uri": "https://localhost:8080/"
        },
        "id": "S9CeNAznqdvE",
        "outputId": "c87ec3b1-6013-4abf-9d1e-a5fe0d4e0915"
      },
      "execution_count": null,
      "outputs": [
        {
          "output_type": "stream",
          "name": "stdout",
          "text": [
            "True\n"
          ]
        }
      ]
    },
    {
      "cell_type": "markdown",
      "source": [
        "# Catch Rate Calculator Program"
      ],
      "metadata": {
        "id": "gts80_O3qpWw"
      }
    },
    {
      "cell_type": "code",
      "source": [
        "#Official player stats for 2022\n",
        "\n",
        "players = [{\n",
        "   'name': 'A.J. Brown',\n",
        "   'catches': 88,\n",
        "   'targets': 145\n",
        "   },\n",
        "   {\n",
        "   'name': 'CeeDee Lamb',\n",
        "   'catches': 107,\n",
        "   'targets': 156\n",
        "   },\n",
        "   {\n",
        "   'name': 'Justin Jefferson',\n",
        "   'catches': 128,\n",
        "   'targets': 184\n",
        "   },\n",
        "]\n"
      ],
      "metadata": {
        "id": "_-9epDxWrklD"
      },
      "execution_count": null,
      "outputs": []
    },
    {
      "cell_type": "code",
      "source": [
        "def get_catch_rate(player):\n",
        "  if type(player) is not dict:\n",
        "    print('You need to pass a dictionary!')\n",
        "    return\n",
        "  else:\n",
        "    pass\n",
        "\n",
        "  catches = player['catches']\n",
        "  targets = player['targets']\n",
        "\n",
        "  if catches > targets:\n",
        "    print('You cannot have more catches than targets!')\n",
        "    return\n",
        "  else:\n",
        "    pass\n",
        "  return round(catches / targets,4)"
      ],
      "metadata": {
        "id": "l9M-PDNHqsQb"
      },
      "execution_count": null,
      "outputs": []
    },
    {
      "cell_type": "code",
      "source": [
        "brown = players[0]\n",
        "browns_catch_rate = get_catch_rate(brown)\n",
        "print(browns_catch_rate)"
      ],
      "metadata": {
        "colab": {
          "base_uri": "https://localhost:8080/"
        },
        "id": "7vYB7EiIqvpr",
        "outputId": "9570a37f-c4f9-4c2d-feca-d1d85beff04e"
      },
      "execution_count": null,
      "outputs": [
        {
          "output_type": "stream",
          "name": "stdout",
          "text": [
            "0.6069\n"
          ]
        }
      ]
    },
    {
      "cell_type": "code",
      "source": [
        "#change for Git.\n"
      ],
      "metadata": {
        "id": "RPC_Va96raoU"
      },
      "execution_count": null,
      "outputs": []
    }
  ]
}
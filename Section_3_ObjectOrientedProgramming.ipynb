{
  "nbformat": 4,
  "nbformat_minor": 0,
  "metadata": {
    "colab": {
      "provenance": [],
      "authorship_tag": "ABX9TyMTFxhwbfLMTgJLWykOOt0P",
      "include_colab_link": true
    },
    "kernelspec": {
      "name": "python3",
      "display_name": "Python 3"
    },
    "language_info": {
      "name": "python"
    }
  },
  "cells": [
    {
      "cell_type": "markdown",
      "metadata": {
        "id": "view-in-github",
        "colab_type": "text"
      },
      "source": [
        "<a href=\"https://colab.research.google.com/github/sepaharvey/Fantasy-Football-Python-Refresh/blob/main/Section_3_ObjectOrientedProgramming.ipynb\" target=\"_parent\"><img src=\"https://colab.research.google.com/assets/colab-badge.svg\" alt=\"Open In Colab\"/></a>"
      ]
    },
    {
      "cell_type": "markdown",
      "source": [
        "# What is OOP"
      ],
      "metadata": {
        "id": "AKRWPIHMo4pM"
      }
    },
    {
      "cell_type": "code",
      "execution_count": 3,
      "metadata": {
        "id": "cw7_u4vYn0hl"
      },
      "outputs": [],
      "source": [
        "class Player:\n",
        "\n",
        "    def __init__(self, name, pos, catches, targets):\n",
        "        self.name = name\n",
        "        self.pos = pos\n",
        "        self.catches = catches\n",
        "        self.targets = targets\n",
        "\n",
        "    def catch_rate(self):\n",
        "        return round(self.catches / self.targets,4)"
      ]
    },
    {
      "cell_type": "code",
      "source": [
        "#creating an instance of a class\n",
        "\n",
        "jj = Player(name = 'Justin Jefferson', pos = 'WR', catches=128, targets = 184)\n",
        "\n",
        "#call our catch_rate method\n",
        "\n",
        "jj.catch_rate()"
      ],
      "metadata": {
        "colab": {
          "base_uri": "https://localhost:8080/"
        },
        "id": "nuAUY4rmpI_k",
        "outputId": "d1ed09d3-2469-4ea0-d530-f9a6a0692a6c"
      },
      "execution_count": 4,
      "outputs": [
        {
          "output_type": "execute_result",
          "data": {
            "text/plain": [
              "0.6957"
            ]
          },
          "metadata": {},
          "execution_count": 4
        }
      ]
    },
    {
      "cell_type": "code",
      "source": [
        "#grab Jefferson's name\n",
        "\n",
        "jj.name"
      ],
      "metadata": {
        "colab": {
          "base_uri": "https://localhost:8080/",
          "height": 36
        },
        "id": "KV9100l2rMEl",
        "outputId": "e4150213-f5c1-433b-c5ac-bb00c4c0b255"
      },
      "execution_count": 5,
      "outputs": [
        {
          "output_type": "execute_result",
          "data": {
            "text/plain": [
              "'Justin Jefferson'"
            ],
            "application/vnd.google.colaboratory.intrinsic+json": {
              "type": "string"
            }
          },
          "metadata": {},
          "execution_count": 5
        }
      ]
    },
    {
      "cell_type": "code",
      "source": [
        "#position\n",
        "\n",
        "jj.pos"
      ],
      "metadata": {
        "colab": {
          "base_uri": "https://localhost:8080/",
          "height": 36
        },
        "id": "K_lmStHMrSoR",
        "outputId": "9621177c-4fb7-4f9d-afcd-def8057f7fc2"
      },
      "execution_count": 7,
      "outputs": [
        {
          "output_type": "execute_result",
          "data": {
            "text/plain": [
              "'WR'"
            ],
            "application/vnd.google.colaboratory.intrinsic+json": {
              "type": "string"
            }
          },
          "metadata": {},
          "execution_count": 7
        }
      ]
    },
    {
      "cell_type": "code",
      "source": [
        "#catches\n",
        "\n",
        "jj.catches"
      ],
      "metadata": {
        "colab": {
          "base_uri": "https://localhost:8080/"
        },
        "id": "x_ligPWZrU_h",
        "outputId": "6f2a3611-32ae-4506-ab5d-9eab9eea307e"
      },
      "execution_count": 8,
      "outputs": [
        {
          "output_type": "execute_result",
          "data": {
            "text/plain": [
              "128"
            ]
          },
          "metadata": {},
          "execution_count": 8
        }
      ]
    },
    {
      "cell_type": "code",
      "source": [
        "class Player:\n",
        "\n",
        "    def __init__(self, name, pos, catches, targets, rushing_attempts, rushing_yards):\n",
        "        self.name = name\n",
        "        self.pos = pos\n",
        "        self.catches = catches\n",
        "        self.targets = targets\n",
        "        self.rushing_attempts = rushing_attempts\n",
        "        self.rushing_yards = rushing_yards\n",
        "\n",
        "    def catch_rate(self):\n",
        "        return round(self.catches / self.targets,4)\n",
        "\n",
        "    def yards_per_carry(self):\n",
        "        return self.rushing_yards/self.rushing_attempts\n",
        "\n",
        "    def efficiency(self):\n",
        "        return {\n",
        "            'yards_per_carry': self.yards_per_carry(),\n",
        "            'catch_rate': self.catch_rate()\n",
        "        }"
      ],
      "metadata": {
        "id": "7BJ0ldA0rZc5"
      },
      "execution_count": 9,
      "outputs": []
    },
    {
      "cell_type": "code",
      "source": [
        "ceedee = Player('CeeDee Lamb', 'WR', 107, 156, 10, 82)\n",
        "\n",
        "print(ceedee.catches)\n",
        "print(ceedee.catch_rate())\n",
        "print(ceedee.yards_per_carry())\n",
        "print(ceedee.efficiency())"
      ],
      "metadata": {
        "colab": {
          "base_uri": "https://localhost:8080/"
        },
        "id": "yqdO0EmtsdbO",
        "outputId": "c6b4e212-a2f1-4ca6-b341-45f880b31350"
      },
      "execution_count": 10,
      "outputs": [
        {
          "output_type": "stream",
          "name": "stdout",
          "text": [
            "107\n",
            "0.6859\n",
            "8.2\n",
            "{'yards_per_carry': 8.2, 'catch_rate': 0.6859}\n"
          ]
        }
      ]
    },
    {
      "cell_type": "code",
      "source": [],
      "metadata": {
        "id": "oxYPcdHGsu_J"
      },
      "execution_count": null,
      "outputs": []
    }
  ]
}
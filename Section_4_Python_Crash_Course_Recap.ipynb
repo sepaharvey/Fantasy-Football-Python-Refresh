{
  "nbformat": 4,
  "nbformat_minor": 0,
  "metadata": {
    "colab": {
      "provenance": [],
      "authorship_tag": "ABX9TyOho7tFlDsAeL7Raid72nmx",
      "include_colab_link": true
    },
    "kernelspec": {
      "name": "python3",
      "display_name": "Python 3"
    },
    "language_info": {
      "name": "python"
    }
  },
  "cells": [
    {
      "cell_type": "markdown",
      "metadata": {
        "id": "view-in-github",
        "colab_type": "text"
      },
      "source": [
        "<a href=\"https://colab.research.google.com/github/sepaharvey/Fantasy-Football-Python-Refresh/blob/main/Section_4_Python_Crash_Course_Recap.ipynb\" target=\"_parent\"><img src=\"https://colab.research.google.com/assets/colab-badge.svg\" alt=\"Open In Colab\"/></a>"
      ]
    },
    {
      "cell_type": "markdown",
      "source": [
        "# Built-in Methods\n",
        "\n",
        "All programming languages have data types, and Python has several types of data. The most common types being the ones we already covered such as `int` s, string s, `list` s, `dict` s, and `float` s.\n",
        "\n",
        "Now that we've covered classes and OOP, we should now tell you that all these data types are really just classes. Because everything in Python is an object, we know with each class we have a set of attributes and methods that go along with them. Just like we have built-in functions, these are called built-in methods which we can call off these data types (which again, are simply object with their own set of attributes and methods).\n",
        "\n",
        "Open up Google Colab, create a new notebook and start to follow along."
      ],
      "metadata": {
        "id": "ufvh6fFIutSc"
      }
    },
    {
      "cell_type": "markdown",
      "source": [
        "# String Methods\n",
        "\n",
        "**split**"
      ],
      "metadata": {
        "id": "lhNOyVzHvoNV"
      }
    },
    {
      "cell_type": "code",
      "source": [
        "our_string = 'Lamar Jackson left end for 10 yards'\n",
        "print(our_string.split(' '))"
      ],
      "metadata": {
        "colab": {
          "base_uri": "https://localhost:8080/"
        },
        "id": "5nBgionrvusZ",
        "outputId": "9014eacc-5c89-4628-f97a-0e088d950159"
      },
      "execution_count": 3,
      "outputs": [
        {
          "output_type": "stream",
          "name": "stdout",
          "text": [
            "['Lamar', 'Jackson', 'left', 'end', 'for', '10', 'yards']\n"
          ]
        }
      ]
    },
    {
      "cell_type": "markdown",
      "source": [
        "Run the code cell and check out the result. You should've gotten back a list with each of the words in our string as a separate list element. This is one of the most useful built-in string methods that we can use all the time.\n",
        "\n",
        "Essentially, `split` takes in one argument - what you want to split your string on, and then returns for you a list with the result. Try this: In our list, separate the items with a comma. Maybe change the string to a play description, such as \"Lamar Jackson in at QB, Mark Ingram up the middle for 5 yards.\" Try to figure out how you would split up the string. Going back to what we've discussed earlier, you can save almost anything to a variable. That includes the result from this string method. We could have done `our_result = our_string.split(' ')` and then used `our_result` and manipulated that just as if it were any other list object saved to a variable.\n",
        "\n",
        "I typically use this string method when I have a long list of items I need to put into a list and I don't feel like putting quotes and then separating each item by a comma. That's a lot of work. Instead I just write it all into one string, separate everything by a space, and then attach `.split()` to the end of it.\n",
        "\n",
        "*This probably isn't a by-the-book \"best practice\", but programmers are inherently lazy. Why else would we automate everything?*"
      ],
      "metadata": {
        "id": "oEKpLaq5v9w7"
      }
    },
    {
      "cell_type": "code",
      "source": [
        "print(' '.join(['Lamar', 'Jackson', 'left', 'end', 'for', '10', 'yards']))"
      ],
      "metadata": {
        "colab": {
          "base_uri": "https://localhost:8080/"
        },
        "id": "QMJwMTllv1iC",
        "outputId": "34b4404f-2329-4d34-9b34-89df43bfd075"
      },
      "execution_count": 4,
      "outputs": [
        {
          "output_type": "stream",
          "name": "stdout",
          "text": [
            "Lamar Jackson left end for 10 yards\n"
          ]
        }
      ]
    },
    {
      "cell_type": "markdown",
      "source": [
        "This is the exact opposite of `split` , instead of splitting a string on a specified character and giving you back a list, `join` takes in a list of strings and joins each of the list elements together with the string we're running the method off of. That was a long sentence, and join can be a bit tough for beginners to wrap their heads around, but just think about it as the opposite of a `split` .\n",
        "\n",
        "\n",
        "\n",
        "**format**"
      ],
      "metadata": {
        "id": "LYxkRjSzw35q"
      }
    },
    {
      "cell_type": "code",
      "source": [
        "first_name = 'Lamar'\n",
        "last_name = 'Jackson'\n",
        "\n",
        "our_string='{} {} left end for 10 yards'.format(first_name, last_name)\n",
        "print(our_string)\n",
        "our_string='{0} {1} left end for 10 yards'.format(first_name, last_name)\n",
        "print(our_string)\n",
        "our_string='{first_name} {last_name} left end for 10 yards'.format(first_name= first_name, last_name=last_name)\n",
        "print(our_string)"
      ],
      "metadata": {
        "colab": {
          "base_uri": "https://localhost:8080/"
        },
        "id": "CEcYcoPmwn5p",
        "outputId": "73076bed-6758-4244-e82e-69778335bf8c"
      },
      "execution_count": 6,
      "outputs": [
        {
          "output_type": "stream",
          "name": "stdout",
          "text": [
            "Lamar Jackson left end for 10 yards\n",
            "Lamar Jackson left end for 10 yards\n",
            "Lamar Jackson left end for 10 yards\n"
          ]
        }
      ]
    },
    {
      "cell_type": "markdown",
      "source": [
        "This is the `format` method. It formats a string with whatever value you want as long as you follow the right syntax. Inside your string, you need to specify where your values need to go using curly braces. What goes inside the curly braces is up to you. There's three options:\n",
        "\n",
        "1. You can add nothing inside the curly braces and simply specify the values you want to format the string with in order.\n",
        "\n",
        "2. You can use indexing and start at 0 going up the number of values you want to format the string with minus 1.\n",
        "\n",
        "3. Or you can specify variable names, but inside `format` you will have to specify the variable names as keyword arguments if you do not want to get an error.\n",
        "\n",
        "Specifying a keyword argument is when you pass an argument to a method or function while explicitly defining what that argument is. You're seeing all three methods here. I personally just use indexing, starting at 0 (or f-strings, which we'll discuss here in a moment). Specifying the actual variable names is probably the \"best practice\", but it can be a bit slow to write out.\n",
        "\n",
        "**Other string methods**\n",
        "\n",
        "Join, split, and format are the three most commonly used string methods in the rest of the course material. Other string methods include `lower` , which converts a string to all lower case, `upper` , WHICH CONVERTS A STRING TO ALL UPPER CASE, and so on. [There's quite a few different string methods](https://www.w3schools.com/python/python_ref_string.asp), so if you have the time it may be valuable to you to go read up on what they are and how they work.\n",
        "\n",
        "\n",
        "# f-strings\n"
      ],
      "metadata": {
        "id": "uJDJmcbMxd2G"
      }
    },
    {
      "cell_type": "markdown",
      "source": [
        "\n",
        "F-strings, short for \"formatted string literals\", are a feature of Python 3.6 and above that provide a concise and convenient way to embed expressions inside string literals.\n",
        "\n",
        "With F-strings, you can embed expressions inside curly braces {} within a string literal, and Python will replace them with the result of evaluating the expression. For example:"
      ],
      "metadata": {
        "id": "qi_-Ccqpx_8P"
      }
    },
    {
      "cell_type": "code",
      "source": [
        "first_name = 'Lamar'\n",
        "last_name = 'Jackson'\n",
        "print(f'{first_name} {last_name} left end for 10 yards')"
      ],
      "metadata": {
        "colab": {
          "base_uri": "https://localhost:8080/"
        },
        "id": "8PNZjxmgxTM_",
        "outputId": "d3f14fce-99e9-4df4-b70e-badc1cdde908"
      },
      "execution_count": 7,
      "outputs": [
        {
          "output_type": "stream",
          "name": "stdout",
          "text": [
            "Lamar Jackson left end for 10 yards\n"
          ]
        }
      ]
    },
    {
      "cell_type": "markdown",
      "source": [
        "To specify an f-string, simply add an `f` to the beginning of your string and pass in your variables to the string wrapped in curly braces. *F-strings can also contain any valid Python expression inside the curly braces, allowing you to perform operations and format the output as desired. We will cover this later on in the course.*"
      ],
      "metadata": {
        "id": "3oicdZ9EyjnN"
      }
    },
    {
      "cell_type": "markdown",
      "source": [
        "# Dictionary Methods\n",
        "\n",
        "Python dictionaries are a built-in data type that store key-value pairs. They have several methods that allow you to manipulate the dictionary in various ways. We will be covering two dictionary methods below.\n",
        "\n",
        "As you can see here, we instantiated a dictionary with the data on Kenneth Walker's 2022 season. Our instantiated dictionary had only data about his name and rushing yards.\n",
        "\n",
        "Here, we're appending a new value after the instantiation for the key `rushing_touchdowns` . We haven't covered this technique of adding items to dictionaries following their instantiation, but this is how it's done:"
      ],
      "metadata": {
        "id": "K3ujn58qyw32"
      }
    },
    {
      "cell_type": "code",
      "source": [
        "#Official Stats from 2022\n",
        "\n",
        "fantasy_data = {\n",
        "    'player_name': 'Kenneth Walker',\n",
        "    'rushing_yards': 1050\n",
        "}\n",
        "\n",
        "\n",
        "#appending a new key:value pair to our dictionary\n",
        "fantasy_data['rushing_touchdowns'] = 9\n",
        "\n",
        "print(fantasy_data)"
      ],
      "metadata": {
        "colab": {
          "base_uri": "https://localhost:8080/"
        },
        "id": "V9fTILT-yico",
        "outputId": "16c6166f-51b9-43ec-e7c6-81bd40d0c65e"
      },
      "execution_count": 8,
      "outputs": [
        {
          "output_type": "stream",
          "name": "stdout",
          "text": [
            "{'player_name': 'Kenneth Walker', 'rushing_yards': 1050, 'rushing_touchdowns': 9}\n"
          ]
        }
      ]
    },
    {
      "cell_type": "markdown",
      "source": [
        "**get**\n",
        "\n",
        "\n",
        "In Section 2 you learned the most standard and user-friendliest way to grab an element from a dictionary. This was by using the syntax `value_i_want = dictionary_name['key']` . However, there is a better way of doing this. See, if the key you are referencing does not exist in your dictionary, you'll get a `KeyError` , sending the entire Python script to a halt. This can happen at times when you're unsure whether or not a specific key exists in your dictionary yet.\n",
        "\n",
        "Thankfully, there's a dictionary method that allows us to get an item from a dictionary, and if the key is not there, it will simply return a default value (that we can specify) or `None` if we don't specify any argument at all. The value to return when a key isn't found is the second argument to this method."
      ],
      "metadata": {
        "id": "ymyV2HrfzQBr"
      }
    },
    {
      "cell_type": "code",
      "source": [
        "#Official stats from 2022\n",
        "\n",
        "player = {\n",
        " 'name': 'Justin Jefferson',\n",
        " 'catches': 128\n",
        "}\n",
        "\n",
        "yds = player.get('yds',0)\n",
        "catches = player.get('catches', 0)\n",
        "\n",
        "print(yds, catches)"
      ],
      "metadata": {
        "colab": {
          "base_uri": "https://localhost:8080/"
        },
        "id": "FcMYRWKDzMIW",
        "outputId": "b31fd0a5-53b0-4595-b41b-ef7dd25be4fa"
      },
      "execution_count": 11,
      "outputs": [
        {
          "output_type": "stream",
          "name": "stdout",
          "text": [
            "0 128\n"
          ]
        }
      ]
    },
    {
      "cell_type": "markdown",
      "source": [
        "**items**"
      ],
      "metadata": {
        "id": "RHW-EzCx0RZR"
      }
    },
    {
      "cell_type": "code",
      "source": [
        "#Official stats from 2022\n",
        "\n",
        "player = {\n",
        " 'name': 'Justin Jefferson',\n",
        " 'catches': 128\n",
        "}\n",
        "\n",
        "for k, v in player.items():\n",
        "    print('{0}: {1}'.format(k, v))"
      ],
      "metadata": {
        "colab": {
          "base_uri": "https://localhost:8080/"
        },
        "id": "fRG_Z4KXzqBG",
        "outputId": "066bf128-a59e-4bed-aff0-35545ca34741"
      },
      "execution_count": 12,
      "outputs": [
        {
          "output_type": "stream",
          "name": "stdout",
          "text": [
            "name: Justin Jefferson\n",
            "catches: 128\n"
          ]
        }
      ]
    },
    {
      "cell_type": "code",
      "source": [],
      "metadata": {
        "id": "0P16exvL0YqM"
      },
      "execution_count": null,
      "outputs": []
    }
  ]
}
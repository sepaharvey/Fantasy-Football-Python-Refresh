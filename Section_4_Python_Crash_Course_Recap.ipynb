{
  "nbformat": 4,
  "nbformat_minor": 0,
  "metadata": {
    "colab": {
      "provenance": [],
      "authorship_tag": "ABX9TyPc6hReT3PlXaFrls5oIL/T",
      "include_colab_link": true
    },
    "kernelspec": {
      "name": "python3",
      "display_name": "Python 3"
    },
    "language_info": {
      "name": "python"
    }
  },
  "cells": [
    {
      "cell_type": "markdown",
      "metadata": {
        "id": "view-in-github",
        "colab_type": "text"
      },
      "source": [
        "<a href=\"https://colab.research.google.com/github/sepaharvey/Fantasy-Football-Python-Refresh/blob/main/Section_4_Python_Crash_Course_Recap.ipynb\" target=\"_parent\"><img src=\"https://colab.research.google.com/assets/colab-badge.svg\" alt=\"Open In Colab\"/></a>"
      ]
    },
    {
      "cell_type": "markdown",
      "source": [
        "# Built-in Methods\n",
        "\n",
        "All programming languages have data types, and Python has several types of data. The most common types being the ones we already covered such as `int` s, string s, `list` s, `dict` s, and `float` s.\n",
        "\n",
        "Now that we've covered classes and OOP, we should now tell you that all these data types are really just classes. Because everything in Python is an object, we know with each class we have a set of attributes and methods that go along with them. Just like we have built-in functions, these are called built-in methods which we can call off these data types (which again, are simply object with their own set of attributes and methods).\n",
        "\n",
        "Open up Google Colab, create a new notebook and start to follow along."
      ],
      "metadata": {
        "id": "ufvh6fFIutSc"
      }
    },
    {
      "cell_type": "markdown",
      "source": [
        "# String Methods\n",
        "\n",
        "**split**"
      ],
      "metadata": {
        "id": "lhNOyVzHvoNV"
      }
    },
    {
      "cell_type": "code",
      "source": [
        "our_string = 'Lamar Jackson left end for 10 yards'\n",
        "print(our_string.split(' '))"
      ],
      "metadata": {
        "colab": {
          "base_uri": "https://localhost:8080/"
        },
        "id": "5nBgionrvusZ",
        "outputId": "9014eacc-5c89-4628-f97a-0e088d950159"
      },
      "execution_count": 3,
      "outputs": [
        {
          "output_type": "stream",
          "name": "stdout",
          "text": [
            "['Lamar', 'Jackson', 'left', 'end', 'for', '10', 'yards']\n"
          ]
        }
      ]
    },
    {
      "cell_type": "markdown",
      "source": [
        "Run the code cell and check out the result. You should've gotten back a list with each of the words in our string as a separate list element. This is one of the most useful built-in string methods that we can use all the time.\n",
        "\n",
        "Essentially, `split` takes in one argument - what you want to split your string on, and then returns for you a list with the result. Try this: In our list, separate the items with a comma. Maybe change the string to a play description, such as \"Lamar Jackson in at QB, Mark Ingram up the middle for 5 yards.\" Try to figure out how you would split up the string. Going back to what we've discussed earlier, you can save almost anything to a variable. That includes the result from this string method. We could have done `our_result = our_string.split(' ')` and then used `our_result` and manipulated that just as if it were any other list object saved to a variable.\n",
        "\n",
        "I typically use this string method when I have a long list of items I need to put into a list and I don't feel like putting quotes and then separating each item by a comma. That's a lot of work. Instead I just write it all into one string, separate everything by a space, and then attach `.split()` to the end of it.\n",
        "\n",
        "*This probably isn't a by-the-book \"best practice\", but programmers are inherently lazy. Why else would we automate everything?*"
      ],
      "metadata": {
        "id": "oEKpLaq5v9w7"
      }
    },
    {
      "cell_type": "code",
      "source": [
        "print(' '.join(['Lamar', 'Jackson', 'left', 'end', 'for', '10', 'yards']))"
      ],
      "metadata": {
        "colab": {
          "base_uri": "https://localhost:8080/"
        },
        "id": "QMJwMTllv1iC",
        "outputId": "34b4404f-2329-4d34-9b34-89df43bfd075"
      },
      "execution_count": 4,
      "outputs": [
        {
          "output_type": "stream",
          "name": "stdout",
          "text": [
            "Lamar Jackson left end for 10 yards\n"
          ]
        }
      ]
    },
    {
      "cell_type": "markdown",
      "source": [
        "This is the exact opposite of `split` , instead of splitting a string on a specified character and giving you back a list, `join` takes in a list of strings and joins each of the list elements together with the string we're running the method off of. That was a long sentence, and join can be a bit tough for beginners to wrap their heads around, but just think about it as the opposite of a `split` .\n",
        "\n",
        "\n",
        "\n",
        "**format**"
      ],
      "metadata": {
        "id": "LYxkRjSzw35q"
      }
    },
    {
      "cell_type": "code",
      "source": [
        "first_name = 'Lamar'\n",
        "last_name = 'Jackson'\n",
        "\n",
        "our_string='{} {} left end for 10 yards'.format(first_name, last_name)\n",
        "print(our_string)\n",
        "our_string='{0} {1} left end for 10 yards'.format(first_name, last_name)\n",
        "print(our_string)\n",
        "our_string='{first_name} {last_name} left end for 10 yards'.format(first_name= first_name, last_name=last_name)\n",
        "print(our_string)"
      ],
      "metadata": {
        "colab": {
          "base_uri": "https://localhost:8080/"
        },
        "id": "CEcYcoPmwn5p",
        "outputId": "73076bed-6758-4244-e82e-69778335bf8c"
      },
      "execution_count": 6,
      "outputs": [
        {
          "output_type": "stream",
          "name": "stdout",
          "text": [
            "Lamar Jackson left end for 10 yards\n",
            "Lamar Jackson left end for 10 yards\n",
            "Lamar Jackson left end for 10 yards\n"
          ]
        }
      ]
    },
    {
      "cell_type": "markdown",
      "source": [
        "This is the `format` method. It formats a string with whatever value you want as long as you follow the right syntax. Inside your string, you need to specify where your values need to go using curly braces. What goes inside the curly braces is up to you. There's three options:\n",
        "\n",
        "1. You can add nothing inside the curly braces and simply specify the values you want to format the string with in order.\n",
        "\n",
        "2. You can use indexing and start at 0 going up the number of values you want to format the string with minus 1.\n",
        "\n",
        "3. Or you can specify variable names, but inside `format` you will have to specify the variable names as keyword arguments if you do not want to get an error.\n",
        "\n",
        "Specifying a keyword argument is when you pass an argument to a method or function while explicitly defining what that argument is. You're seeing all three methods here. I personally just use indexing, starting at 0 (or f-strings, which we'll discuss here in a moment). Specifying the actual variable names is probably the \"best practice\", but it can be a bit slow to write out.\n",
        "\n",
        "**Other string methods**\n",
        "\n",
        "Join, split, and format are the three most commonly used string methods in the rest of the course material. Other string methods include `lower` , which converts a string to all lower case, `upper` , WHICH CONVERTS A STRING TO ALL UPPER CASE, and so on. [There's quite a few different string methods](https://www.w3schools.com/python/python_ref_string.asp), so if you have the time it may be valuable to you to go read up on what they are and how they work.\n",
        "\n",
        "\n",
        "# f-strings\n"
      ],
      "metadata": {
        "id": "uJDJmcbMxd2G"
      }
    },
    {
      "cell_type": "markdown",
      "source": [
        "\n",
        "F-strings, short for \"formatted string literals\", are a feature of Python 3.6 and above that provide a concise and convenient way to embed expressions inside string literals.\n",
        "\n",
        "With F-strings, you can embed expressions inside curly braces {} within a string literal, and Python will replace them with the result of evaluating the expression. For example:"
      ],
      "metadata": {
        "id": "qi_-Ccqpx_8P"
      }
    },
    {
      "cell_type": "code",
      "source": [
        "first_name = 'Lamar'\n",
        "last_name = 'Jackson'\n",
        "print(f'{first_name} {last_name} left end for 10 yards')"
      ],
      "metadata": {
        "colab": {
          "base_uri": "https://localhost:8080/"
        },
        "id": "8PNZjxmgxTM_",
        "outputId": "d3f14fce-99e9-4df4-b70e-badc1cdde908"
      },
      "execution_count": 7,
      "outputs": [
        {
          "output_type": "stream",
          "name": "stdout",
          "text": [
            "Lamar Jackson left end for 10 yards\n"
          ]
        }
      ]
    },
    {
      "cell_type": "markdown",
      "source": [
        "To specify an f-string, simply add an `f` to the beginning of your string and pass in your variables to the string wrapped in curly braces. *F-strings can also contain any valid Python expression inside the curly braces, allowing you to perform operations and format the output as desired. We will cover this later on in the course.*"
      ],
      "metadata": {
        "id": "3oicdZ9EyjnN"
      }
    },
    {
      "cell_type": "markdown",
      "source": [
        "# Dictionary Methods\n",
        "\n",
        "Python dictionaries are a built-in data type that store key-value pairs. They have several methods that allow you to manipulate the dictionary in various ways. We will be covering two dictionary methods below.\n",
        "\n",
        "As you can see here, we instantiated a dictionary with the data on Kenneth Walker's 2022 season. Our instantiated dictionary had only data about his name and rushing yards.\n",
        "\n",
        "Here, we're appending a new value after the instantiation for the key `rushing_touchdowns` . We haven't covered this technique of adding items to dictionaries following their instantiation, but this is how it's done:"
      ],
      "metadata": {
        "id": "K3ujn58qyw32"
      }
    },
    {
      "cell_type": "code",
      "source": [
        "#Official Stats from 2022\n",
        "\n",
        "fantasy_data = {\n",
        "    'player_name': 'Kenneth Walker',\n",
        "    'rushing_yards': 1050\n",
        "}\n",
        "\n",
        "\n",
        "#appending a new key:value pair to our dictionary\n",
        "fantasy_data['rushing_touchdowns'] = 9\n",
        "\n",
        "print(fantasy_data)"
      ],
      "metadata": {
        "colab": {
          "base_uri": "https://localhost:8080/"
        },
        "id": "V9fTILT-yico",
        "outputId": "16c6166f-51b9-43ec-e7c6-81bd40d0c65e"
      },
      "execution_count": 8,
      "outputs": [
        {
          "output_type": "stream",
          "name": "stdout",
          "text": [
            "{'player_name': 'Kenneth Walker', 'rushing_yards': 1050, 'rushing_touchdowns': 9}\n"
          ]
        }
      ]
    },
    {
      "cell_type": "markdown",
      "source": [
        "**get**\n",
        "\n",
        "\n",
        "In Section 2 you learned the most standard and user-friendliest way to grab an element from a dictionary. This was by using the syntax `value_i_want = dictionary_name['key']` . However, there is a better way of doing this. See, if the key you are referencing does not exist in your dictionary, you'll get a `KeyError` , sending the entire Python script to a halt. This can happen at times when you're unsure whether or not a specific key exists in your dictionary yet.\n",
        "\n",
        "Thankfully, there's a dictionary method that allows us to get an item from a dictionary, and if the key is not there, it will simply return a default value (that we can specify) or `None` if we don't specify any argument at all. The value to return when a key isn't found is the second argument to this method."
      ],
      "metadata": {
        "id": "ymyV2HrfzQBr"
      }
    },
    {
      "cell_type": "code",
      "source": [
        "#Official stats from 2022\n",
        "\n",
        "player = {\n",
        " 'name': 'Justin Jefferson',\n",
        " 'catches': 128\n",
        "}\n",
        "\n",
        "yds = player.get('yds',0)\n",
        "catches = player.get('catches', 0)\n",
        "\n",
        "print(yds, catches)"
      ],
      "metadata": {
        "colab": {
          "base_uri": "https://localhost:8080/"
        },
        "id": "FcMYRWKDzMIW",
        "outputId": "b31fd0a5-53b0-4595-b41b-ef7dd25be4fa"
      },
      "execution_count": 11,
      "outputs": [
        {
          "output_type": "stream",
          "name": "stdout",
          "text": [
            "0 128\n"
          ]
        }
      ]
    },
    {
      "cell_type": "markdown",
      "source": [
        "**items**"
      ],
      "metadata": {
        "id": "RHW-EzCx0RZR"
      }
    },
    {
      "cell_type": "code",
      "source": [
        "#Official stats from 2022\n",
        "\n",
        "player = {\n",
        " 'name': 'Justin Jefferson',\n",
        " 'catches': 128\n",
        "}\n",
        "\n",
        "for k, v in player.items():\n",
        "    print('{0}: {1}'.format(k, v))"
      ],
      "metadata": {
        "colab": {
          "base_uri": "https://localhost:8080/"
        },
        "id": "fRG_Z4KXzqBG",
        "outputId": "066bf128-a59e-4bed-aff0-35545ca34741"
      },
      "execution_count": 12,
      "outputs": [
        {
          "output_type": "stream",
          "name": "stdout",
          "text": [
            "name: Justin Jefferson\n",
            "catches: 128\n"
          ]
        }
      ]
    },
    {
      "cell_type": "markdown",
      "source": [
        "This is another very useful dictionary method called `items` that allows us to iterate over a dictionary. The way we iterate over our new iterable formed from items features two placeholder values instead of one. You can see we use k, v to identify each of our `k` ey `v` alues. This is known as \"unpacking\" in Python.\n",
        "\n",
        "We then use string formatting to properly format our data. This may seem strange to you if you're just starting to wrap your head around iteration. By examining what items actually returns to us, it can make things a bit clearer."
      ],
      "metadata": {
        "id": "4Ypeuvm14YSj"
      }
    },
    {
      "cell_type": "code",
      "source": [
        "print(player.items())"
      ],
      "metadata": {
        "colab": {
          "base_uri": "https://localhost:8080/"
        },
        "id": "0P16exvL0YqM",
        "outputId": "51fefae0-97df-48ef-a521-048f52074bfd"
      },
      "execution_count": 13,
      "outputs": [
        {
          "output_type": "stream",
          "name": "stdout",
          "text": [
            "dict_items([('name', 'Justin Jefferson'), ('catches', 128)])\n"
          ]
        }
      ]
    },
    {
      "cell_type": "markdown",
      "source": [
        "We can see here that the `items` method gives us back a sort-of list of tuples, an object called `dict_items` . Each item in the list can be represented abstractly as two items in one. This is why we can use k, v to represent a single iteration of the `dict_item`s or sort-of list, above. Each item in the iterable actually contains two items.\n",
        "\n",
        "There are more dictionary methods like this, but these are the two most common I use on an every day basis. [There's more methods you can investigate](https://www.w3schools.com/python/python_ref_dictionary.asp) outside of the boundaries of this course. Other common methods we can use on dictionaries include `values` , which gives us back a list of all of the values in our dictionary, and the `keys` method, which gives us back a list of all of the keys in our dictionary."
      ],
      "metadata": {
        "id": "T72CNwXK4jD9"
      }
    },
    {
      "cell_type": "markdown",
      "source": [
        "#Advanced Iterable Operations and More List Methods\n",
        "Below we'll cover some of the more advanced operations we can run on lists:\n",
        "\n",
        "**range**"
      ],
      "metadata": {
        "id": "hXgfbaRk424M"
      }
    },
    {
      "cell_type": "code",
      "source": [
        "redzone_yardlines = []\n",
        "\n",
        "for yardline in range(1,21):\n",
        "  redzone_yardlines.append(yardline)\n",
        "\n",
        "print(redzone_yardlines)"
      ],
      "metadata": {
        "colab": {
          "base_uri": "https://localhost:8080/"
        },
        "id": "sEpb7m934hX7",
        "outputId": "613c5b18-7b91-4891-d851-aa6ee88d43c3"
      },
      "execution_count": 14,
      "outputs": [
        {
          "output_type": "stream",
          "name": "stdout",
          "text": [
            "[1, 2, 3, 4, 5, 6, 7, 8, 9, 10, 11, 12, 13, 14, 15, 16, 17, 18, 19, 20]\n"
          ]
        }
      ]
    },
    {
      "cell_type": "markdown",
      "source": [
        "We have quite a few things going on here.\n",
        "\n",
        "First off, we instantiate a new, empty list. The goal of this code is to add yardlines ranging from 1 to 20 to this list.\n",
        "\n",
        "Second, we run a for loop.\n",
        "\n",
        "Thus far, we've ran for loops on lists, which we know are considered iterable. Another kind of iterable Python object is a range. In Python, there are many types of iterables. The range function we call here which takes in two arguments is actually one of Python's built-in functions. It can actually take in three arguments, `start` , `stop` , and `step`. The range function simply gives us back a range of numbers that can be iterated over. 1, 2, 3, 4, 5 is an example of a range of numbers, with a starting point of 1, an ending position of 6 (this isn't a typo!), and a step of 1. The first argument, `star`t, is the starting number for our range. We simply give it the number we want to start counting at. The second argument is the ending position for our range. Notice we did not specify ending number, we specified ending position. Recall how list indexes start at 0 and end at the length of the list - 1, meaning that the last item in the list will have an index of the length of the list - 1. Same thing going on here. We are specifying our ending position, but we need to specify one more than what we actually want. For example, if we wanted a range from 1 to 5 going like 1, 2, 3, 4, 5, we would need to specify range(1, 6) . That's going to be a bit tricky to learn initially but eventually it will become second nature.\n",
        "\n",
        "**append**\n",
        "\n",
        "Once we set this range, we can iterate over it. We're saying for each item in the range(1, 21) , add that item to the empty list we created above using our new list method, append .\n",
        "\n",
        "The `append` method adds an element to the end of the list. It \"appends\" it. Easy.\n",
        "\n",
        "**List Comprehensions**\n",
        "\n",
        "There's a simpler way to do all this without a list method. It's called a list comprehension, and it's used to make operations like this much cleaner:\n"
      ],
      "metadata": {
        "id": "pFHA-rnt5F0W"
      }
    },
    {
      "cell_type": "code",
      "source": [
        "redzone_yardlines = [yardline for yardline in range(1,21)]\n",
        "\n",
        "print(redzone_yardlines)"
      ],
      "metadata": {
        "colab": {
          "base_uri": "https://localhost:8080/"
        },
        "id": "RhIuPZlQ5C2T",
        "outputId": "202594d6-046c-4b60-e175-1c6739621fbf"
      },
      "execution_count": 15,
      "outputs": [
        {
          "output_type": "stream",
          "name": "stdout",
          "text": [
            "[1, 2, 3, 4, 5, 6, 7, 8, 9, 10, 11, 12, 13, 14, 15, 16, 17, 18, 19, 20]\n"
          ]
        }
      ]
    },
    {
      "cell_type": "markdown",
      "source": [
        "This is the same exact result as the block above, but much cleaner. Notice how we do not have to set an empty list or use any list methods and everything goes on one line.\n",
        "\n",
        "List comprehensions like this can get much more in-depth, and most beginners prefer to use the \"set an empty list, append it with a for loop\" approach because they are not yet used to thinking in terms of list comprehensions. Both methods work just as fine. List comprehensions are just cleaner and more Pythonic.\n",
        "\n",
        "You may be thinking by now this is kind of dumb. Why are we just copying elements from one iterable to another iterable? Seems like a lot of work for not a lot of results. Indeed, in both code blocks, we start with a range of numbers 1 to 21 and end with a range of numbers 1 to 21.\n",
        "\n",
        "When we start using functions and start \"mapping\" over our original iterable to return a mutated iterable is when we will start doing some really useful operations."
      ],
      "metadata": {
        "id": "lAxmjyMv53uC"
      }
    },
    {
      "cell_type": "code",
      "source": [
        "#official stats for 2022\n",
        "\n",
        "players = [{\n",
        "    'name' : 'Justin Jefferson',\n",
        "    'catches' : 128,\n",
        "    'yds' : 1809,\n",
        "    'td' : 8\n",
        "}, {\n",
        "    'name': 'Tyreek Hill',\n",
        "    'catches' : 119,\n",
        "    'yds' : 1553,\n",
        "    'td' : 11\n",
        "}]\n",
        "\n",
        "fantasy_points = []\n",
        "\n",
        "for player in players:\n",
        "  points_scored = player.get('catches', 0) + player.get('yds',0)*.1 + player.get('td',0)*6\n",
        "  fantasy_points.append(points_scored)\n",
        "\n",
        "print(sum(fantasy_points)/len(fantasy_points))"
      ],
      "metadata": {
        "colab": {
          "base_uri": "https://localhost:8080/"
        },
        "id": "DXV-h3IY5vIz",
        "outputId": "9511ae78-09fe-40e8-efea-ce9ce3e34195"
      },
      "execution_count": 18,
      "outputs": [
        {
          "output_type": "stream",
          "name": "stdout",
          "text": [
            "348.6\n"
          ]
        }
      ]
    },
    {
      "cell_type": "markdown",
      "source": [
        "Here's one example of how you might find an average of fantasy points scored from a list of dictionaries containing relevant/applicable fantasy stats. Note how we use the optional value in our `get` method to return 0 in case yards, TDs, or catches is not given to us. Even though we are the ones setting the data, this is good practice to catch the unexpected.\n",
        "\n",
        "At the end, we use two new concepts to calculate our average. The built in function len returns to us the length of our list, or how many elements are in our list. The sum built-in function sums all the items in our list. Recall built-in functions are native to Python. They are just there available for us to use. In Python lingo, they are already in the namespace."
      ],
      "metadata": {
        "id": "wtQh4HOY61Eu"
      }
    },
    {
      "cell_type": "code",
      "source": [
        "players = [{\n",
        "    'name': 'Justin Jefferson',\n",
        "    'catches': 128,\n",
        "    'yds': 1809,\n",
        "    'td': 8\n",
        "}, {\n",
        "    'name': 'Tyreek Hill',\n",
        "    'catches': 119,\n",
        "    'yds': 1553,\n",
        "    'td': 11\n",
        "}]\n",
        "\n",
        "def calc_fantasy_points(player):\n",
        "    return player.get('catches', 0) + player.get('yds', 0) * .1 + player.get('td', 0) * 6\n",
        "\n",
        "fantasy_points = [calc_fantasy_points(player) for player in players]\n",
        "print(sum(fantasy_points) / len(fantasy_points))"
      ],
      "metadata": {
        "colab": {
          "base_uri": "https://localhost:8080/"
        },
        "id": "23HbKgtp6oMF",
        "outputId": "e266f48e-954f-4642-c4a2-367724522287"
      },
      "execution_count": 19,
      "outputs": [
        {
          "output_type": "stream",
          "name": "stdout",
          "text": [
            "348.6\n"
          ]
        }
      ]
    },
    {
      "cell_type": "markdown",
      "source": [
        "In my opinion, this is a better way of writing the same code, for two reasons. One- we create our new list in one line using a list comprehension which makes everything a lot cleaner. And two - we now have a function called `calc_fantasy_points` that can be reused later in the code."
      ],
      "metadata": {
        "id": "FAD0HxKd7izd"
      }
    },
    {
      "cell_type": "code",
      "source": [],
      "metadata": {
        "id": "n5pN0oxU7gyC"
      },
      "execution_count": null,
      "outputs": []
    }
  ]
}